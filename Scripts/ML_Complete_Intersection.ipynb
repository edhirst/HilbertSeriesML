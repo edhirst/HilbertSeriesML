{
 "cells": [
  {
   "cell_type": "code",
   "execution_count": 1,
   "metadata": {},
   "outputs": [],
   "source": [
    "import sqlite3\n",
    "from ast import literal_eval\n",
    "import pandas\n",
    "import numpy as np\n",
    "from sklearn.model_selection import train_test_split\n",
    "from sklearn.neural_network import MLPClassifier\n",
    "from sklearn.ensemble import RandomForestClassifier\n",
    "from sklearn.metrics import accuracy_score, mean_squared_error, matthews_corrcoef\n",
    "from sklearn.model_selection import RandomizedSearchCV\n",
    "from pprint import pprint"
   ]
  },
  {
   "cell_type": "markdown",
   "metadata": {},
   "source": [
    "## numerator_np"
   ]
  },
  {
   "cell_type": "code",
   "execution_count": 2,
   "metadata": {},
   "outputs": [
    {
     "data": {
      "text/plain": [
       "MLPClassifier(activation='relu', alpha=1e-05, batch_size='auto', beta_1=0.9,\n",
       "              beta_2=0.999, early_stopping=False, epsilon=1e-08,\n",
       "              hidden_layer_sizes=(100,), learning_rate='constant',\n",
       "              learning_rate_init=0.001, max_fun=15000, max_iter=200,\n",
       "              momentum=0.9, n_iter_no_change=10, nesterovs_momentum=True,\n",
       "              power_t=0.5, random_state=1, shuffle=True, solver='lbfgs',\n",
       "              tol=0.0001, validation_fraction=0.1, verbose=False,\n",
       "              warm_start=False)"
      ]
     },
     "execution_count": 2,
     "metadata": {},
     "output_type": "execute_result"
    }
   ],
   "source": [
    "with sqlite3.connect(\"CI.db\") as db:\n",
    "    c = db.cursor()\n",
    "    df = pandas.read_sql_query(\"SELECT hs,ci FROM numerator_np\", db)\n",
    "\n",
    "# cast 'hilb'-column from a column of strings into a column of lists of ints\n",
    "df['hs'] = df['hs'].transform(literal_eval)\n",
    "\n",
    "hs=df['hs'].to_list();\n",
    "ci=df['ci'].to_list();\n",
    "\n",
    "hs_train, hs_test, ci_train, ci_test = train_test_split(\\\n",
    "    df['hs'].to_list(), df['ci'].to_list(), test_size=0.2,\n",
    "    shuffle=True)\n",
    "\n",
    "# MLP classifier:\n",
    "clf = MLPClassifier(solver='lbfgs', alpha=1e-5, random_state=1)\n",
    "clf.fit(hs_train, ci_train)"
   ]
  },
  {
   "cell_type": "code",
   "execution_count": 3,
   "metadata": {},
   "outputs": [
    {
     "name": "stdout",
     "output_type": "stream",
     "text": [
      "MCC: 0.9960337469185694\n",
      "accuracy score: 0.9980732177263969\n"
     ]
    }
   ],
   "source": [
    "# predictions and metrics:\n",
    "ci_pred = clf.predict(hs_test)\n",
    "print(f'MCC: {matthews_corrcoef(ci_test, ci_pred)}')\n",
    "print(f'accuracy score: {accuracy_score(ci_test, ci_pred)}')"
   ]
  },
  {
   "cell_type": "markdown",
   "metadata": {},
   "source": [
    "## taylor_np_20"
   ]
  },
  {
   "cell_type": "code",
   "execution_count": 26,
   "metadata": {},
   "outputs": [
    {
     "name": "stderr",
     "output_type": "stream",
     "text": [
      "C:\\Users\\psimi\\AppData\\Roaming\\Python\\Python37\\site-packages\\sklearn\\neural_network\\_multilayer_perceptron.py:470: ConvergenceWarning: lbfgs failed to converge (status=1):\n",
      "STOP: TOTAL NO. of ITERATIONS REACHED LIMIT.\n",
      "\n",
      "Increase the number of iterations (max_iter) or scale the data as shown in:\n",
      "    https://scikit-learn.org/stable/modules/preprocessing.html\n",
      "  self.n_iter_ = _check_optimize_result(\"lbfgs\", opt_res, self.max_iter)\n"
     ]
    },
    {
     "data": {
      "text/plain": [
       "MLPClassifier(activation='relu', alpha=1e-05, batch_size='auto', beta_1=0.9,\n",
       "              beta_2=0.999, early_stopping=False, epsilon=1e-08,\n",
       "              hidden_layer_sizes=(100,), learning_rate='constant',\n",
       "              learning_rate_init=0.001, max_fun=15000, max_iter=200,\n",
       "              momentum=0.9, n_iter_no_change=10, nesterovs_momentum=True,\n",
       "              power_t=0.5, random_state=1, shuffle=True, solver='lbfgs',\n",
       "              tol=0.0001, validation_fraction=0.1, verbose=False,\n",
       "              warm_start=False)"
      ]
     },
     "execution_count": 26,
     "metadata": {},
     "output_type": "execute_result"
    }
   ],
   "source": [
    "with sqlite3.connect(\"CI.db\") as db:\n",
    "    c = db.cursor()\n",
    "    df = pandas.read_sql_query(\"SELECT hs,ci FROM taylor_np_20\", db)\n",
    "\n",
    "# cast 'hilb'-column from a column of strings into a column of lists of ints\n",
    "df['hs'] = df['hs'].transform(literal_eval)\n",
    "\n",
    "# normalisation: divide entries by last entry and remove last entry\n",
    "df['hs'] = df['hs'].transform(lambda h: [h[i] / h[-1]\n",
    "                                             for i in range(0, len(h) - 1)])\n",
    "\n",
    "hs=df['hs'].to_list();\n",
    "ci=df['ci'].to_list();\n",
    "\n",
    "hs_train, hs_test, ci_train, ci_test = train_test_split(\\\n",
    "    df['hs'].to_list(), df['ci'].to_list(), test_size=0.2,\n",
    "    shuffle=True)\n",
    "\n",
    "# MLP classifier:\n",
    "clf = MLPClassifier(solver='lbfgs', alpha=1e-5, random_state=1)\n",
    "clf.fit(hs_train, ci_train)"
   ]
  },
  {
   "cell_type": "code",
   "execution_count": 12,
   "metadata": {},
   "outputs": [
    {
     "name": "stdout",
     "output_type": "stream",
     "text": [
      "MCC: 0.25447126372869\n",
      "accuracy score: 0.6107404936624417\n"
     ]
    }
   ],
   "source": [
    "# predictions and metrics:\n",
    "ci_pred = clf.predict(hs_test)\n",
    "print(f'MCC: {matthews_corrcoef(ci_test, ci_pred)}')\n",
    "print(f'accuracy score: {accuracy_score(ci_test, ci_pred)}')"
   ]
  },
  {
   "cell_type": "code",
   "execution_count": 27,
   "metadata": {},
   "outputs": [
    {
     "name": "stdout",
     "output_type": "stream",
     "text": [
      "MCC: 0.45735164298039954\n",
      "accuracy score: 0.7174783188792528\n"
     ]
    }
   ],
   "source": [
    "# random forest classifier. n_estimators random tree of max_depth:\n",
    "clf = RandomForestClassifier(n_estimators=100, max_depth=100)\n",
    "clf.fit(hs_train, ci_train)\n",
    "\n",
    "# predictions and metrics:\n",
    "ci_pred = clf.predict(hs_test)\n",
    "print(f'MCC: {matthews_corrcoef(ci_test, ci_pred)}')\n",
    "print(f'accuracy score: {accuracy_score(ci_test, ci_pred)}')"
   ]
  },
  {
   "cell_type": "markdown",
   "metadata": {},
   "source": [
    "## numerator"
   ]
  },
  {
   "cell_type": "code",
   "execution_count": 4,
   "metadata": {},
   "outputs": [
    {
     "data": {
      "text/plain": [
       "MLPClassifier(activation='relu', alpha=1e-05, batch_size='auto', beta_1=0.9,\n",
       "              beta_2=0.999, early_stopping=False, epsilon=1e-08,\n",
       "              hidden_layer_sizes=(100,), learning_rate='constant',\n",
       "              learning_rate_init=0.001, max_fun=15000, max_iter=200,\n",
       "              momentum=0.9, n_iter_no_change=10, nesterovs_momentum=True,\n",
       "              power_t=0.5, random_state=1, shuffle=True, solver='lbfgs',\n",
       "              tol=0.0001, validation_fraction=0.1, verbose=False,\n",
       "              warm_start=False)"
      ]
     },
     "execution_count": 4,
     "metadata": {},
     "output_type": "execute_result"
    }
   ],
   "source": [
    "with sqlite3.connect(\"CI.db\") as db:\n",
    "    c = db.cursor()\n",
    "    df = pandas.read_sql_query(\"SELECT hs,ci FROM numerator\", db)\n",
    "\n",
    "# cast 'hilb'-column from a column of strings into a column of lists of ints\n",
    "df['hs'] = df['hs'].transform(literal_eval)\n",
    "\n",
    "hs=df['hs'].to_list();\n",
    "ci=df['ci'].to_list();\n",
    "\n",
    "hs_train, hs_test, ci_train, ci_test = train_test_split(\\\n",
    "    df['hs'].to_list(), df['ci'].to_list(), test_size=0.1,\n",
    "    shuffle=True)\n",
    "\n",
    "# MLP classifier:\n",
    "clf = MLPClassifier(solver='lbfgs', alpha=1e-5, random_state=1)\n",
    "clf.fit(hs_train, ci_train)"
   ]
  },
  {
   "cell_type": "code",
   "execution_count": 5,
   "metadata": {},
   "outputs": [
    {
     "name": "stdout",
     "output_type": "stream",
     "text": [
      "MCC: -0.029640861239295824\n",
      "accuracy score: 0.5232432432432432\n"
     ]
    }
   ],
   "source": [
    "# predictions and metrics:\n",
    "ci_pred = clf.predict(hs_test)\n",
    "print(f'MCC: {matthews_corrcoef(ci_test, ci_pred)}')\n",
    "print(f'accuracy score: {accuracy_score(ci_test, ci_pred)}')"
   ]
  },
  {
   "cell_type": "code",
   "execution_count": 6,
   "metadata": {},
   "outputs": [
    {
     "name": "stdout",
     "output_type": "stream",
     "text": [
      "MCC: 0.7844349597692939\n",
      "accuracy score: 0.8918918918918919\n"
     ]
    }
   ],
   "source": [
    "# random forest classifier. n_estimators random tree of max_depth:\n",
    "clf = RandomForestClassifier(n_estimators=70, max_depth=70)\n",
    "clf.fit(hs_train, ci_train)\n",
    "\n",
    "# predictions and metrics:\n",
    "ci_pred = clf.predict(hs_test)\n",
    "print(f'MCC: {matthews_corrcoef(ci_test, ci_pred)}')\n",
    "print(f'accuracy score: {accuracy_score(ci_test, ci_pred)}')"
   ]
  },
  {
   "cell_type": "markdown",
   "metadata": {},
   "source": [
    "### Optional: find the best hyperparameters for random forest"
   ]
  },
  {
   "cell_type": "code",
   "execution_count": 49,
   "metadata": {},
   "outputs": [
    {
     "name": "stdout",
     "output_type": "stream",
     "text": [
      "{'bootstrap': [True, False],\n",
      " 'max_depth': [50, 61, 72, 83, 94, 105, 116, 127, 138, 150, None],\n",
      " 'max_features': ['auto', 'sqrt', 'log2'],\n",
      " 'min_samples_leaf': [1, 2, 4],\n",
      " 'min_samples_split': [2, 5, 10],\n",
      " 'n_estimators': [50, 61, 72, 83, 94, 105, 116, 127, 138, 150]}\n"
     ]
    }
   ],
   "source": [
    "# Number of trees in random forest\n",
    "n_estimators = [int(x) for x in np.linspace(start = 50, stop = 150, num = 10)]\n",
    "# Number of features to consider at every split\n",
    "max_features = ['auto', 'sqrt','log2']\n",
    "# Maximum number of levels in tree\n",
    "max_depth = [int(x) for x in np.linspace(50, 150, num = 10)]\n",
    "max_depth.append(None)\n",
    "# Minimum number of samples required to split a node\n",
    "min_samples_split = [2, 5, 10]\n",
    "# Minimum number of samples required at each leaf node\n",
    "min_samples_leaf = [1, 2, 4]\n",
    "# Method of selecting samples for training each tree\n",
    "bootstrap = [True, False]\n",
    "# Create the random grid\n",
    "random_grid = {'n_estimators': n_estimators,\n",
    "               'max_features': max_features,\n",
    "               'max_depth': max_depth,\n",
    "               'min_samples_split': min_samples_split,\n",
    "               'min_samples_leaf': min_samples_leaf,\n",
    "               'bootstrap': bootstrap}\n",
    "pprint(random_grid)"
   ]
  },
  {
   "cell_type": "code",
   "execution_count": 51,
   "metadata": {},
   "outputs": [
    {
     "data": {
      "text/plain": [
       "RandomizedSearchCV(cv=3, error_score=nan,\n",
       "                   estimator=RandomForestClassifier(bootstrap=True,\n",
       "                                                    ccp_alpha=0.0,\n",
       "                                                    class_weight=None,\n",
       "                                                    criterion='gini',\n",
       "                                                    max_depth=None,\n",
       "                                                    max_features='auto',\n",
       "                                                    max_leaf_nodes=None,\n",
       "                                                    max_samples=None,\n",
       "                                                    min_impurity_decrease=0.0,\n",
       "                                                    min_impurity_split=None,\n",
       "                                                    min_samples_leaf=1,\n",
       "                                                    min_samples_split=2,\n",
       "                                                    min_weight_fraction_leaf=0.0,\n",
       "                                                    n_estimators=100,\n",
       "                                                    n_jobs...\n",
       "                   iid='deprecated', n_iter=100, n_jobs=None,\n",
       "                   param_distributions={'bootstrap': [True, False],\n",
       "                                        'max_depth': [50, 61, 72, 83, 94, 105,\n",
       "                                                      116, 127, 138, 150,\n",
       "                                                      None],\n",
       "                                        'max_features': ['auto', 'sqrt',\n",
       "                                                         'log2'],\n",
       "                                        'min_samples_leaf': [1, 2, 4],\n",
       "                                        'min_samples_split': [2, 5, 10],\n",
       "                                        'n_estimators': [50, 61, 72, 83, 94,\n",
       "                                                         105, 116, 127, 138,\n",
       "                                                         150]},\n",
       "                   pre_dispatch='2*n_jobs', random_state=None, refit=True,\n",
       "                   return_train_score=False, scoring=None, verbose=0)"
      ]
     },
     "execution_count": 51,
     "metadata": {},
     "output_type": "execute_result"
    }
   ],
   "source": [
    "# Use the random grid to search for best hyperparameters\n",
    "# First create the base model to tune\n",
    "rf = RandomForestClassifier()\n",
    "# Random search of parameters, using cv fold cross validation, \n",
    "# search across 100 different combinations, and use all available cores\n",
    "rf_random = RandomizedSearchCV(estimator = rf, param_distributions = random_grid, n_iter = 100, cv = 3, verbose=0, \n",
    "                               random_state=None, n_jobs = None)\n",
    "# Fit the random search model\n",
    "rf_random.fit(hs, ci)"
   ]
  },
  {
   "cell_type": "code",
   "execution_count": 52,
   "metadata": {},
   "outputs": [
    {
     "data": {
      "text/plain": [
       "{'n_estimators': 105,\n",
       " 'min_samples_split': 2,\n",
       " 'min_samples_leaf': 1,\n",
       " 'max_features': 'auto',\n",
       " 'max_depth': 150,\n",
       " 'bootstrap': False}"
      ]
     },
     "execution_count": 52,
     "metadata": {},
     "output_type": "execute_result"
    }
   ],
   "source": [
    "rf_random.best_params_"
   ]
  },
  {
   "cell_type": "code",
   "execution_count": 7,
   "metadata": {},
   "outputs": [
    {
     "name": "stdout",
     "output_type": "stream",
     "text": [
      "MCC: 0.8038251714399988\n",
      "accuracy score: 0.9016216216216216\n"
     ]
    }
   ],
   "source": [
    "# random forest classifier. n_estimators random tree of max_depth:\n",
    "clf = RandomForestClassifier(n_estimators=105, max_depth=150,min_samples_split=2,min_samples_leaf=1,bootstrap=False)\n",
    "clf.fit(hs_train, ci_train)\n",
    "\n",
    "# predictions and metrics:\n",
    "ci_pred = clf.predict(hs_test)\n",
    "print(f'MCC: {matthews_corrcoef(ci_test, ci_pred)}')\n",
    "print(f'accuracy score: {accuracy_score(ci_test, ci_pred)}')"
   ]
  },
  {
   "cell_type": "markdown",
   "metadata": {},
   "source": [
    "## taylor_20"
   ]
  },
  {
   "cell_type": "code",
   "execution_count": 31,
   "metadata": {},
   "outputs": [
    {
     "data": {
      "text/plain": [
       "MLPClassifier(activation='relu', alpha=1e-05, batch_size='auto', beta_1=0.9,\n",
       "              beta_2=0.999, early_stopping=False, epsilon=1e-08,\n",
       "              hidden_layer_sizes=(100,), learning_rate='constant',\n",
       "              learning_rate_init=0.001, max_fun=15000, max_iter=200,\n",
       "              momentum=0.9, n_iter_no_change=10, nesterovs_momentum=True,\n",
       "              power_t=0.5, random_state=1, shuffle=True, solver='lbfgs',\n",
       "              tol=0.0001, validation_fraction=0.1, verbose=False,\n",
       "              warm_start=False)"
      ]
     },
     "execution_count": 31,
     "metadata": {},
     "output_type": "execute_result"
    }
   ],
   "source": [
    "with sqlite3.connect(\"CI.db\") as db:\n",
    "    c = db.cursor()\n",
    "    df = pandas.read_sql_query(\"SELECT hs,ci FROM taylor_20\", db)\n",
    "\n",
    "# cast 'hilb'-column from a column of strings into a column of lists of ints\n",
    "df['hs'] = df['hs'].transform(literal_eval)\n",
    "\n",
    "# normalisation: divide entries by last entry and remove last entry\n",
    "df['hs'] = df['hs'].transform(lambda h: [h[i] / h[-1]\n",
    "                                             for i in range(0, len(h) - 1)])\n",
    "\n",
    "hs=df['hs'].to_list();\n",
    "ci=df['ci'].to_list();\n",
    "\n",
    "hs_train, hs_test, ci_train, ci_test = train_test_split(\\\n",
    "    df['hs'].to_list(), df['ci'].to_list(), test_size=0.2,\n",
    "    shuffle=True)\n",
    "\n",
    "# MLP classifier:\n",
    "clf = MLPClassifier(solver='lbfgs', alpha=1e-5, random_state=1)\n",
    "clf.fit(hs_train, ci_train)"
   ]
  },
  {
   "cell_type": "code",
   "execution_count": 32,
   "metadata": {},
   "outputs": [
    {
     "name": "stdout",
     "output_type": "stream",
     "text": [
      "MCC: 0.11409832748943859\n",
      "accuracy score: 0.5579991375592928\n"
     ]
    }
   ],
   "source": [
    "# predictions and metrics:\n",
    "ci_pred = clf.predict(hs_test)\n",
    "print(f'MCC: {matthews_corrcoef(ci_test, ci_pred)}')\n",
    "print(f'accuracy score: {accuracy_score(ci_test, ci_pred)}')"
   ]
  },
  {
   "cell_type": "code",
   "execution_count": 33,
   "metadata": {},
   "outputs": [
    {
     "name": "stdout",
     "output_type": "stream",
     "text": [
      "MCC: 0.4916855468240053\n",
      "accuracy score: 0.7460112117291936\n"
     ]
    }
   ],
   "source": [
    "# random forest classifier. n_estimators random tree of max_depth:\n",
    "clf = RandomForestClassifier(n_estimators=100, max_depth=100)\n",
    "clf.fit(hs_train, ci_train)\n",
    "\n",
    "# predictions and metrics:\n",
    "ci_pred = clf.predict(hs_test)\n",
    "print(f'MCC: {matthews_corrcoef(ci_test, ci_pred)}')\n",
    "print(f'accuracy score: {accuracy_score(ci_test, ci_pred)}')"
   ]
  },
  {
   "cell_type": "markdown",
   "metadata": {},
   "source": [
    "## taylor_100"
   ]
  },
  {
   "cell_type": "code",
   "execution_count": 2,
   "metadata": {},
   "outputs": [],
   "source": [
    "with sqlite3.connect(\"CI.db\") as db:\n",
    "    c = db.cursor()\n",
    "    df = pandas.read_sql_query(\"SELECT hs,ci FROM taylor_100\", db)\n",
    "\n",
    "# cast 'hilb'-column from a column of strings into a column of lists of ints\n",
    "df['hs'] = df['hs'].transform(literal_eval)\n",
    "\n",
    "# normalisation: divide entries by last entry and remove last entry\n",
    "df['hs'] = df['hs'].transform(lambda h: [h[i] / h[-1]\n",
    "                                             for i in range(0, len(h) - 1)])\n",
    "\n",
    "hs=df['hs'].to_list();\n",
    "ci=df['ci'].to_list();\n",
    "\n",
    "hs_train, hs_test, ci_train, ci_test = train_test_split(\\\n",
    "    df['hs'].to_list(), df['ci'].to_list(), test_size=0.2,\n",
    "    shuffle=True)"
   ]
  },
  {
   "cell_type": "code",
   "execution_count": 19,
   "metadata": {},
   "outputs": [
    {
     "name": "stdout",
     "output_type": "stream",
     "text": [
      "MCC: 0.9131205780261956\n",
      "accuracy score: 0.9564655172413793\n"
     ]
    }
   ],
   "source": [
    "# random forest classifier. n_estimators random tree of max_depth:\n",
    "clf = RandomForestClassifier(n_estimators=100, max_depth=100)\n",
    "clf.fit(hs_train, ci_train)\n",
    "\n",
    "# predictions and metrics:\n",
    "ci_pred = clf.predict(hs_test)\n",
    "print(f'MCC: {matthews_corrcoef(ci_test, ci_pred)}')\n",
    "print(f'accuracy score: {accuracy_score(ci_test, ci_pred)}')"
   ]
  },
  {
   "cell_type": "code",
   "execution_count": 3,
   "metadata": {},
   "outputs": [
    {
     "name": "stdout",
     "output_type": "stream",
     "text": [
      "MCC: 0.1582294622426255\n",
      "accuracy score: 0.5780172413793103\n"
     ]
    },
    {
     "name": "stderr",
     "output_type": "stream",
     "text": [
      "C:\\Users\\psimi\\AppData\\Roaming\\Python\\Python37\\site-packages\\sklearn\\neural_network\\_multilayer_perceptron.py:470: ConvergenceWarning: lbfgs failed to converge (status=1):\n",
      "STOP: TOTAL NO. of ITERATIONS REACHED LIMIT.\n",
      "\n",
      "Increase the number of iterations (max_iter) or scale the data as shown in:\n",
      "    https://scikit-learn.org/stable/modules/preprocessing.html\n",
      "  self.n_iter_ = _check_optimize_result(\"lbfgs\", opt_res, self.max_iter)\n"
     ]
    }
   ],
   "source": [
    "# MLP classifier:\n",
    "clf = MLPClassifier(solver='lbfgs', alpha=1e-5, random_state=1)\n",
    "clf.fit(hs_train, ci_train)\n",
    "\n",
    "# predictions and metrics:\n",
    "ci_pred = clf.predict(hs_test)\n",
    "print(f'MCC: {matthews_corrcoef(ci_test, ci_pred)}')\n",
    "print(f'accuracy score: {accuracy_score(ci_test, ci_pred)}')"
   ]
  },
  {
   "cell_type": "code",
   "execution_count": null,
   "metadata": {},
   "outputs": [],
   "source": []
  }
 ],
 "metadata": {
  "kernelspec": {
   "display_name": "Python 3",
   "language": "python",
   "name": "python3"
  },
  "language_info": {
   "codemirror_mode": {
    "name": "ipython",
    "version": 3
   },
   "file_extension": ".py",
   "mimetype": "text/x-python",
   "name": "python",
   "nbconvert_exporter": "python",
   "pygments_lexer": "ipython3",
   "version": "3.7.5"
  }
 },
 "nbformat": 4,
 "nbformat_minor": 2
}
